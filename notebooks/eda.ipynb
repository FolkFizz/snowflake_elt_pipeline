{
 "cells": [
  {
   "cell_type": "code",
   "execution_count": 1,
   "id": "3bd6fb14",
   "metadata": {},
   "outputs": [],
   "source": [
    "import pandas as pd"
   ]
  },
  {
   "cell_type": "code",
   "execution_count": 2,
   "metadata": {},
   "outputs": [],
   "source": [
    "y2024 = pd.read_parquet('./Datasets/yellow_tripdata_2024-01.parquet')\n",
    "y2025 = pd.read_parquet('./Datasets/yellow_tripdata_2025-01.parquet')\n",
    "g2024 = pd.read_parquet('./Datasets/green_tripdata_2024-01.parquet')\n",
    "g2025 = pd.read_parquet('./Datasets/green_tripdata_2025-01.parquet')"
   ]
  },
  {
   "cell_type": "markdown",
   "metadata": {},
   "source": [
    "### check common columns"
   ]
  },
  {
   "cell_type": "code",
   "execution_count": 19,
   "metadata": {},
   "outputs": [
    {
     "name": "stdout",
     "output_type": "stream",
     "text": [
      "                   column dtype_y2024 dtype_g2024 dtype_y2025 dtype_g2025  \\\n",
      "0            DOLocationID       int32       int32       int32       int32   \n",
      "1            PULocationID       int32       int32       int32       int32   \n",
      "2              RatecodeID     float64     float64     float64     float64   \n",
      "3                VendorID       int32       int32       int32       int32   \n",
      "4    congestion_surcharge     float64     float64     float64     float64   \n",
      "5                   extra     float64     float64     float64     float64   \n",
      "6             fare_amount     float64     float64     float64     float64   \n",
      "7   improvement_surcharge     float64     float64     float64     float64   \n",
      "8                 mta_tax     float64     float64     float64     float64   \n",
      "9         passenger_count     float64     float64     float64     float64   \n",
      "10           payment_type       int64     float64       int64     float64   \n",
      "11     store_and_fwd_flag      object      object      object      object   \n",
      "12             tip_amount     float64     float64     float64     float64   \n",
      "13           tolls_amount     float64     float64     float64     float64   \n",
      "14           total_amount     float64     float64     float64     float64   \n",
      "15          trip_distance     float64     float64     float64     float64   \n",
      "\n",
      "    same_dtype_y  same_dtype_g  same_dtype_all  \n",
      "0           True          True           False  \n",
      "1           True          True           False  \n",
      "2           True          True           False  \n",
      "3           True          True           False  \n",
      "4           True          True           False  \n",
      "5           True          True           False  \n",
      "6           True          True           False  \n",
      "7           True          True           False  \n",
      "8           True          True           False  \n",
      "9           True          True           False  \n",
      "10          True          True           False  \n",
      "11          True          True           False  \n",
      "12          True          True           False  \n",
      "13          True          True           False  \n",
      "14          True          True           False  \n",
      "15          True          True           False  \n"
     ]
    }
   ],
   "source": [
    "from functools import reduce\n",
    "# รวมเป็น dict เพื่อเขียนโค้ดสั้นและขยายง่าย\n",
    "dfs = {\n",
    "    \"y2024\": y2024,\n",
    "    \"g2024\": g2024,\n",
    "    \"y2025\": y2025,\n",
    "    \"g2025\": g2025,\n",
    "}\n",
    "\n",
    "# 1) หา common columns ข้ามทุก DataFrame ทีเดียว\n",
    "common_cols = reduce(pd.Index.intersection, [df.columns for df in dfs.values()])\n",
    "\n",
    "# 2) ทำตารางสรุป dtype ของแต่ละ DF บนคอลัมน์ที่ร่วมกัน\n",
    "summary = pd.DataFrame({\"column\": common_cols})\n",
    "for name, df in dfs.items():\n",
    "    summary[f\"dtype_{name}\"] = summary[\"column\"].map(df.dtypes)\n",
    "\n",
    "# (ทางเลือก) เพิ่ม flag ตรวจว่า dtype ตรงกันหมดทุกชุด หรือเฉพาะคู่ปี\n",
    "summary[\"same_dtype_y\"]   = summary[\"dtype_y2024\"].values == summary[\"dtype_y2025\"].values\n",
    "summary[\"same_dtype_g\"]   = summary[\"dtype_g2024\"].values == summary[\"dtype_g2025\"].values\n",
    "summary[\"same_dtype_all\"] = summary.filter(like=\"dtype_\").nunique(axis=1).eq(1)\n",
    "\n",
    "# จัดให้อ่านง่าย (ถ้าต้องการ)\n",
    "summary = summary.sort_values(\"column\").reset_index(drop=True)\n",
    "\n",
    "print(summary)"
   ]
  },
  {
   "cell_type": "code",
   "execution_count": 21,
   "metadata": {},
   "outputs": [
    {
     "name": "stdout",
     "output_type": "stream",
     "text": [
      "=== Columns only in y2024 ===\n",
      "                  column           dtype\n",
      "0            Airport_fee         float64\n",
      "1  tpep_dropoff_datetime  datetime64[us]\n",
      "2   tpep_pickup_datetime  datetime64[us] \n",
      "\n",
      "=== Columns only in g2024 ===\n",
      "                  column           dtype\n",
      "0              ehail_fee         float64\n",
      "1  lpep_dropoff_datetime  datetime64[us]\n",
      "2   lpep_pickup_datetime  datetime64[us]\n",
      "3              trip_type         float64 \n",
      "\n",
      "=== Columns only in y2025 ===\n",
      "                  column           dtype\n",
      "0            Airport_fee         float64\n",
      "1  tpep_dropoff_datetime  datetime64[us]\n",
      "2   tpep_pickup_datetime  datetime64[us] \n",
      "\n",
      "=== Columns only in g2025 ===\n",
      "                  column           dtype\n",
      "0              ehail_fee         float64\n",
      "1  lpep_dropoff_datetime  datetime64[us]\n",
      "2   lpep_pickup_datetime  datetime64[us]\n",
      "3              trip_type         float64 \n",
      "\n"
     ]
    }
   ],
   "source": [
    "# === คอลัมน์ที่ต่างกันระหว่าง y2024 และ g2024 ===\n",
    "only_y2024 = y2024.columns.difference(g2024.columns)\n",
    "only_g2024 = g2024.columns.difference(y2024.columns)\n",
    "\n",
    "# === คอลัมน์ที่ต่างกันระหว่าง y2025 และ g2025 ===\n",
    "only_y2025 = y2025.columns.difference(g2025.columns)\n",
    "only_g2025 = g2025.columns.difference(y2025.columns)\n",
    "\n",
    "# ฟังก์ชันช่วยสร้าง DataFrame พร้อม dtype\n",
    "def cols_with_dtype(df, cols):\n",
    "    return pd.DataFrame({\n",
    "        \"column\": cols,\n",
    "        \"dtype\": [df[c].dtype for c in cols]\n",
    "    })\n",
    "\n",
    "print(\"=== Columns only in y2024 ===\")\n",
    "print(cols_with_dtype(y2024, only_y2024), \"\\n\")\n",
    "\n",
    "print(\"=== Columns only in g2024 ===\")\n",
    "print(cols_with_dtype(g2024, only_g2024), \"\\n\")\n",
    "\n",
    "print(\"=== Columns only in y2025 ===\")\n",
    "print(cols_with_dtype(y2025, only_y2025), \"\\n\")\n",
    "\n",
    "print(\"=== Columns only in g2025 ===\")\n",
    "print(cols_with_dtype(g2025, only_g2025), \"\\n\")\n"
   ]
  }
 ],
 "metadata": {
  "kernelspec": {
   "display_name": "snowflake_elt_pipeline",
   "language": "python",
   "name": "python3"
  },
  "language_info": {
   "codemirror_mode": {
    "name": "ipython",
    "version": 3
   },
   "file_extension": ".py",
   "mimetype": "text/x-python",
   "name": "python",
   "nbconvert_exporter": "python",
   "pygments_lexer": "ipython3",
   "version": "3.12.10"
  }
 },
 "nbformat": 4,
 "nbformat_minor": 5
}
