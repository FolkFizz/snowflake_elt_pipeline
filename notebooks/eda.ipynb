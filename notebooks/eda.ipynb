{
 "cells": [
  {
   "cell_type": "code",
   "execution_count": 1,
   "id": "3bd6fb14",
   "metadata": {},
   "outputs": [],
   "source": [
    "import pandas as pd"
   ]
  },
  {
   "cell_type": "code",
   "execution_count": 2,
   "metadata": {},
   "outputs": [],
   "source": [
    "y2024 = pd.read_parquet('./Datasets/yellow_tripdata_2024-01.parquet')\n",
    "y2025 = pd.read_parquet('./Datasets/yellow_tripdata_2025-01.parquet')\n",
    "g2024 = pd.read_parquet('./Datasets/green_tripdata_2024-01.parquet')\n",
    "g2025 = pd.read_parquet('./Datasets/green_tripdata_2025-01.parquet')"
   ]
  },
  {
   "cell_type": "code",
   "execution_count": 4,
   "metadata": {},
   "outputs": [
    {
     "name": "stdout",
     "output_type": "stream",
     "text": [
      "<class 'pandas.core.frame.DataFrame'>\n",
      "RangeIndex: 2964624 entries, 0 to 2964623\n",
      "Data columns (total 19 columns):\n",
      " #   Column                 Dtype         \n",
      "---  ------                 -----         \n",
      " 0   VendorID               int32         \n",
      " 1   tpep_pickup_datetime   datetime64[us]\n",
      " 2   tpep_dropoff_datetime  datetime64[us]\n",
      " 3   passenger_count        float64       \n",
      " 4   trip_distance          float64       \n",
      " 5   RatecodeID             float64       \n",
      " 6   store_and_fwd_flag     object        \n",
      " 7   PULocationID           int32         \n",
      " 8   DOLocationID           int32         \n",
      " 9   payment_type           int64         \n",
      " 10  fare_amount            float64       \n",
      " 11  extra                  float64       \n",
      " 12  mta_tax                float64       \n",
      " 13  tip_amount             float64       \n",
      " 14  tolls_amount           float64       \n",
      " 15  improvement_surcharge  float64       \n",
      " 16  total_amount           float64       \n",
      " 17  congestion_surcharge   float64       \n",
      " 18  Airport_fee            float64       \n",
      "dtypes: datetime64[us](2), float64(12), int32(3), int64(1), object(1)\n",
      "memory usage: 395.8+ MB\n"
     ]
    }
   ],
   "source": [
    "y2024.info()"
   ]
  },
  {
   "cell_type": "code",
   "execution_count": 5,
   "id": "1cca9c9a",
   "metadata": {},
   "outputs": [
    {
     "name": "stdout",
     "output_type": "stream",
     "text": [
      "<class 'pandas.core.frame.DataFrame'>\n",
      "RangeIndex: 3475226 entries, 0 to 3475225\n",
      "Data columns (total 20 columns):\n",
      " #   Column                 Dtype         \n",
      "---  ------                 -----         \n",
      " 0   VendorID               int32         \n",
      " 1   tpep_pickup_datetime   datetime64[us]\n",
      " 2   tpep_dropoff_datetime  datetime64[us]\n",
      " 3   passenger_count        float64       \n",
      " 4   trip_distance          float64       \n",
      " 5   RatecodeID             float64       \n",
      " 6   store_and_fwd_flag     object        \n",
      " 7   PULocationID           int32         \n",
      " 8   DOLocationID           int32         \n",
      " 9   payment_type           int64         \n",
      " 10  fare_amount            float64       \n",
      " 11  extra                  float64       \n",
      " 12  mta_tax                float64       \n",
      " 13  tip_amount             float64       \n",
      " 14  tolls_amount           float64       \n",
      " 15  improvement_surcharge  float64       \n",
      " 16  total_amount           float64       \n",
      " 17  congestion_surcharge   float64       \n",
      " 18  Airport_fee            float64       \n",
      " 19  cbd_congestion_fee     float64       \n",
      "dtypes: datetime64[us](2), float64(13), int32(3), int64(1), object(1)\n",
      "memory usage: 490.5+ MB\n"
     ]
    }
   ],
   "source": [
    "y2025.info()"
   ]
  },
  {
   "cell_type": "code",
   "execution_count": 6,
   "id": "cfa0dc90",
   "metadata": {},
   "outputs": [
    {
     "name": "stdout",
     "output_type": "stream",
     "text": [
      "<class 'pandas.core.frame.DataFrame'>\n",
      "RangeIndex: 56551 entries, 0 to 56550\n",
      "Data columns (total 20 columns):\n",
      " #   Column                 Non-Null Count  Dtype         \n",
      "---  ------                 --------------  -----         \n",
      " 0   VendorID               56551 non-null  int32         \n",
      " 1   lpep_pickup_datetime   56551 non-null  datetime64[us]\n",
      " 2   lpep_dropoff_datetime  56551 non-null  datetime64[us]\n",
      " 3   store_and_fwd_flag     53136 non-null  object        \n",
      " 4   RatecodeID             53136 non-null  float64       \n",
      " 5   PULocationID           56551 non-null  int32         \n",
      " 6   DOLocationID           56551 non-null  int32         \n",
      " 7   passenger_count        53136 non-null  float64       \n",
      " 8   trip_distance          56551 non-null  float64       \n",
      " 9   fare_amount            56551 non-null  float64       \n",
      " 10  extra                  56551 non-null  float64       \n",
      " 11  mta_tax                56551 non-null  float64       \n",
      " 12  tip_amount             56551 non-null  float64       \n",
      " 13  tolls_amount           56551 non-null  float64       \n",
      " 14  ehail_fee              0 non-null      float64       \n",
      " 15  improvement_surcharge  56551 non-null  float64       \n",
      " 16  total_amount           56551 non-null  float64       \n",
      " 17  payment_type           53136 non-null  float64       \n",
      " 18  trip_type              53133 non-null  float64       \n",
      " 19  congestion_surcharge   53136 non-null  float64       \n",
      "dtypes: datetime64[us](2), float64(14), int32(3), object(1)\n",
      "memory usage: 8.0+ MB\n"
     ]
    }
   ],
   "source": [
    "g2024.info()"
   ]
  },
  {
   "cell_type": "code",
   "execution_count": 7,
   "id": "f08316a0",
   "metadata": {},
   "outputs": [
    {
     "name": "stdout",
     "output_type": "stream",
     "text": [
      "<class 'pandas.core.frame.DataFrame'>\n",
      "RangeIndex: 48326 entries, 0 to 48325\n",
      "Data columns (total 21 columns):\n",
      " #   Column                 Non-Null Count  Dtype         \n",
      "---  ------                 --------------  -----         \n",
      " 0   VendorID               48326 non-null  int32         \n",
      " 1   lpep_pickup_datetime   48326 non-null  datetime64[us]\n",
      " 2   lpep_dropoff_datetime  48326 non-null  datetime64[us]\n",
      " 3   store_and_fwd_flag     46490 non-null  object        \n",
      " 4   RatecodeID             46490 non-null  float64       \n",
      " 5   PULocationID           48326 non-null  int32         \n",
      " 6   DOLocationID           48326 non-null  int32         \n",
      " 7   passenger_count        46490 non-null  float64       \n",
      " 8   trip_distance          48326 non-null  float64       \n",
      " 9   fare_amount            48326 non-null  float64       \n",
      " 10  extra                  48326 non-null  float64       \n",
      " 11  mta_tax                48326 non-null  float64       \n",
      " 12  tip_amount             48326 non-null  float64       \n",
      " 13  tolls_amount           48326 non-null  float64       \n",
      " 14  ehail_fee              0 non-null      float64       \n",
      " 15  improvement_surcharge  48326 non-null  float64       \n",
      " 16  total_amount           48326 non-null  float64       \n",
      " 17  payment_type           46490 non-null  float64       \n",
      " 18  trip_type              46483 non-null  float64       \n",
      " 19  congestion_surcharge   46490 non-null  float64       \n",
      " 20  cbd_congestion_fee     46490 non-null  float64       \n",
      "dtypes: datetime64[us](2), float64(15), int32(3), object(1)\n",
      "memory usage: 7.2+ MB\n"
     ]
    }
   ],
   "source": [
    "g2025.info()"
   ]
  }
 ],
 "metadata": {
  "kernelspec": {
   "display_name": "snowflake_elt_pipeline",
   "language": "python",
   "name": "python3"
  },
  "language_info": {
   "codemirror_mode": {
    "name": "ipython",
    "version": 3
   },
   "file_extension": ".py",
   "mimetype": "text/x-python",
   "name": "python",
   "nbconvert_exporter": "python",
   "pygments_lexer": "ipython3",
   "version": "3.12.10"
  }
 },
 "nbformat": 4,
 "nbformat_minor": 5
}
